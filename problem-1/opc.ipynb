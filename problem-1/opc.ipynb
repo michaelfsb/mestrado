{
 "cells": [
  {
   "attachments": {},
   "cell_type": "markdown",
   "metadata": {},
   "source": [
    "\\begin{equation*}\n",
    "\\begin{aligned}\n",
    "& \\underset{i_{el}(t)}{\\text{minimize}}\n",
    "& &  \\int_{0}^{T_f} (p_{el}(t))-p_{ph}(t))^2 \\,dt \\\\\n",
    "& \\text{subject to}\n",
    "& & \\dot m_{H_2} = f_{H_2} - d_{H_2}, \\\\\n",
    "&&& f_{H_2} = N_{el}\\frac{i_{el}}{F}, \\\\\n",
    "&&& v_{el}=v_{el,0}+v_{etd}+v_{ohm}+v_{ion}, \\\\\n",
    "&&& v_{el,0}=1.23-0.9\\times10^{-3}\\left(t_{el}-298\\right)+2.3 \\frac{R t_{el}}{4 F} \\ln \\left(P_{H_2}^2 P_{O_2}\\right), \\\\\n",
    "&&& V_{etd}=\\frac{R t_{el}}{F} \\sinh ^{-1}\\left[\\frac{1}{2} \\frac{i_{el}}{i_{ao}}\\right]+\\frac{R t_{ez}}{F} \\sinh ^{-1}\\left[\\frac{1}{2} \\frac{i_{el}}{i_{co}}\\right]+\\left(\\frac{\\delta_B}{\\sigma_B} i_{el}\\right)+R_I i_{el}, \\\\\n",
    "&&& v_{ez,ohm}+v_{ion}=\\frac{\\delta_B i_{el}}{A_{el} \\sigma_B}, \\\\\n",
    "&&& \\sigma_B=(0.005139 \\lambda-0.00326) e^{1268}\\left(\\frac{1}{303}-\\frac{1}{t_{el}}\\right), \\\\\n",
    "&&& -1 \\leq u \\leq 1.\n",
    "\\end{aligned}\n",
    "\\end{equation*}"
   ]
  },
  {
   "cell_type": "code",
   "execution_count": null,
   "metadata": {},
   "outputs": [],
   "source": [
    "# Imports\n",
    "import casadi as ca\n",
    "\n",
    "# Declare constants\n",
    "R = 8.314 # Gas constant\n",
    "F = 96485 # Faraday constant\n",
    "\n",
    "# Declare electrolyzer parameters\n",
    "A_el = 212.5        # Stack area\n",
    "N_el = 1            # Number of cells\n",
    "P_h2 = 6.9          # Hydrogen partial pressure\n",
    "P_o2 = 1.3          # Oxygen partial pressure\n",
    "I_ao = 1.0631e-6    # Anode current density \n",
    "I_co = 1e-3         # Cathode current density\n",
    "delta_b = 178.5     # Membrane thickness\n",
    "lambda_b = 21       # Membrana water content\n",
    "C_el = 0.5          # Thermal capacitance \n",
    "tau_el = 0          # NÃO ACHEI NO ARTIGO !!!\n",
    "P_el = 0            # NÃO ACHEI NO ARTIGO !!!\n",
    "R_I = 0             # NÃO ACHEI NO ARTIGO !!!\n",
    "\n",
    "# Declare variables\n",
    "m_h2 = ca.SX.sym('m_h2') # State - Mass of hydrogen\n",
    "t_el = ca.SX.sym('t_el') # State - Temperature of electrolyzer\n",
    "t_ab = ca.SX.sym('t_ab') # Algebric - Ambient temperature\n",
    "f_h2 = ca.SX.sym('f_h2') # Algebric - Produced hydrogen in the electrolyzer\n",
    "d_h2 = ca.SX.sym('d_h2') # Algebric - Hydrogen demand\n",
    "i_ph = ca.SX.sym('i_pv') # Algebric - Electrical current in photovoltaic panel\n",
    "v_ph = ca.SX.sym('v_pv') # Algebric - Voltage of photovoltaic panel\n",
    "v_el = ca.SX.sym('v_el') # Algebric - Voltage of electrolyzer\n",
    "i_el = ca.SX.sym('i_el') # Control - Electrical current in electrolyzer\n",
    "\n",
    "# Intermediate electrolyzer variables - Electric\n",
    "v_el_0 = 1.23 - 0.0009*(t_el-298) + 2.3*R*t_el*ca.log(P_h2**2*P_o2)/(4*F) # Reversible potential of the electrolyzer\n",
    "ro_b = (0.005139*lambda_b - 0.00326) * ca.exp(1268*(1/303 - 1/t_el)) # Membrane conductivity\n",
    "v_etd = (R*t_el/F)*ca.sinh(.5*i_el/(I_ao))**-1 + (R*t_el/F)*ca.sinh(.5*i_el/(I_co))**-1 + i_el*delta_b/ro_b + R_I*i_el # Eletrode overpotential\n",
    "v_el_hom_ion = delta_b*i_el/(A_el*ro_b) # Ohmic overvoltage and ionic overpotential\n",
    "\n",
    "# Intermediate electrolyzer variables - Thermal\n",
    "p_sat = ca.exp(13.669-(8096.23/t_el)) # Vapor partial pressure\n",
    "v_hv = 1.4756 + 2.252e-4*(t_el-273) + 1.52e-8*(t_el-273)**2 # Higher-high-value voltage\n",
    "v_tn = v_hv + (1.5/(2*F))*(p_sat/(P_el + p_sat))*(4.29e-4 + 40.76*(t_el-273) - 0.066*(t_el-273)**2) # Thermal voltage\n",
    "q_gen = v_el*i_el*(1-v_tn) # Heat generated\n",
    "q_loss = (t_el - t_ab)*C_el/tau_el # Heat loss to the environment\n",
    "q_cool = 0 # Heat removed by the cooling system NÃO ACHEI NO ARTIGO !!!\n",
    "\n",
    "# Diferential equations\n",
    "m_h2_dot = f_h2 - d_h2\n",
    "t_el_dot = (q_gen + q_loss + q_cool)/C_el\n",
    "f_x = ca.vertcat(m_h2_dot, t_el_dot)\n",
    "\n",
    "# Algebraic equations\n",
    "f_h2 = N_el*i_el/F\n",
    "v_el = v_el_0 + v_etd + v_el_hom_ion\n",
    "f_z = ca.vertcat(f_h2, v_el)\n",
    "\n",
    "# Lagrange cost function\n",
    "f_q = (v_el*i_el - v_ph*i_ph)**2"
   ]
  }
 ],
 "metadata": {
  "kernelspec": {
   "display_name": "Python 3",
   "language": "python",
   "name": "python3"
  },
  "language_info": {
   "codemirror_mode": {
    "name": "ipython",
    "version": 3
   },
   "file_extension": ".py",
   "mimetype": "text/x-python",
   "name": "python",
   "nbconvert_exporter": "python",
   "pygments_lexer": "ipython3",
   "version": "3.8.10"
  },
  "orig_nbformat": 4,
  "vscode": {
   "interpreter": {
    "hash": "916dbcbb3f70747c44a77c7bcd40155683ae19c65e1c03b4aa3499c5328201f1"
   }
  }
 },
 "nbformat": 4,
 "nbformat_minor": 2
}
